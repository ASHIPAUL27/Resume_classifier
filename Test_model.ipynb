{
  "nbformat": 4,
  "nbformat_minor": 0,
  "metadata": {
    "colab": {
      "provenance": [],
      "gpuType": "T4"
    },
    "kernelspec": {
      "name": "python3",
      "display_name": "Python 3"
    },
    "language_info": {
      "name": "python"
    },
    "accelerator": "GPU"
  },
  "cells": [
    {
      "cell_type": "code",
      "source": [
        "%cd '/content/drive/MyDrive/Resume_classifier'"
      ],
      "metadata": {
        "colab": {
          "base_uri": "https://localhost:8080/"
        },
        "id": "Z57osKQhglVb",
        "outputId": "5a230469-c035-4a6c-eeff-40b757ae00d2"
      },
      "execution_count": 1,
      "outputs": [
        {
          "output_type": "stream",
          "name": "stdout",
          "text": [
            "/content/drive/MyDrive/Resume_classifier\n"
          ]
        }
      ]
    },
    {
      "cell_type": "code",
      "source": [
        "# Importing the module for testing purpose\n",
        "from test_model import EvaluateModel"
      ],
      "metadata": {
        "id": "0Vrmu9c2Btec"
      },
      "execution_count": 21,
      "outputs": []
    },
    {
      "cell_type": "markdown",
      "source": [
        "### Evaluating on Training Set"
      ],
      "metadata": {
        "id": "Uf3HOVjfGCLT"
      }
    },
    {
      "cell_type": "code",
      "source": [
        "# Creating the evaluation object\n",
        "\n",
        "train_eval = EvaluateModel(model_file='/content/drive/MyDrive/Resume_classifier/model_checkpoint.h5',\n",
        "                           test_folder='/content/drive/MyDrive/Resume_classifier/train')"
      ],
      "metadata": {
        "id": "hbhtwTIABwBH"
      },
      "execution_count": 25,
      "outputs": []
    },
    {
      "cell_type": "code",
      "source": [
        "# Loading the data and making predictions\n",
        "\n",
        "train_images, train_labels = train_eval.preprocess_load_data()\n",
        "train_pred = train_eval.make_predictions(train_images)"
      ],
      "metadata": {
        "colab": {
          "base_uri": "https://localhost:8080/"
        },
        "id": "4wqNhMZQCQHD",
        "outputId": "67c9ad7c-c7cd-409d-df92-b9515b4d90af"
      },
      "execution_count": 26,
      "outputs": [
        {
          "output_type": "stream",
          "name": "stderr",
          "text": [
            "/usr/local/lib/python3.10/dist-packages/PIL/Image.py:996: UserWarning: Palette images with Transparency expressed in bytes should be converted to RGBA images\n",
            "  warnings.warn(\n"
          ]
        },
        {
          "output_type": "stream",
          "name": "stdout",
          "text": [
            "60/60 [==============================] - 105s 2s/step\n"
          ]
        }
      ]
    },
    {
      "cell_type": "code",
      "source": [
        "# Classification report\n",
        "train_eval.get_classification_report(train_labels, train_pred, file_name='train_report.csv')"
      ],
      "metadata": {
        "colab": {
          "base_uri": "https://localhost:8080/"
        },
        "id": "-bGVufa4Cfaw",
        "outputId": "a8b0baa1-870c-436b-c2ef-6b3abe59c442"
      },
      "execution_count": 27,
      "outputs": [
        {
          "output_type": "stream",
          "name": "stdout",
          "text": [
            "              precision    recall  f1-score   support\n",
            "\n",
            "           0       0.98      0.99      0.98       488\n",
            "           1       0.99      0.97      0.98       463\n",
            "\n",
            "    accuracy                           0.98       951\n",
            "   macro avg       0.98      0.98      0.98       951\n",
            "weighted avg       0.98      0.98      0.98       951\n",
            "\n"
          ]
        }
      ]
    },
    {
      "cell_type": "code",
      "source": [
        "# Confusion matrix\n",
        "train_cm = train_eval.get_confusion_matrix(train_labels, train_pred, 'train_matrix.jpg')"
      ],
      "metadata": {
        "colab": {
          "base_uri": "https://localhost:8080/",
          "height": 430
        },
        "id": "2h09NsjYD7RY",
        "outputId": "7994cff7-f564-40f8-d454-748a955f5c67"
      },
      "execution_count": 28,
      "outputs": [
        {
          "output_type": "display_data",
          "data": {
            "text/plain": [
              "<Figure size 640x480 with 2 Axes>"
            ],
            "image/png": "[encoded data removed]"
          },
          "metadata": {}
        }
      ]
    },
    {
      "cell_type": "code",
      "source": [
        "# Other metrics\n",
        "train_eval.get_metrics(train_cm)"
      ],
      "metadata": {
        "colab": {
          "base_uri": "https://localhost:8080/"
        },
        "id": "V5Q2smvCEh6v",
        "outputId": "db7a3112-3406-4903-fa2b-d269921273b2"
      },
      "execution_count": 29,
      "outputs": [
        {
          "output_type": "execute_result",
          "data": {
            "text/plain": [
              "{'True Positives': 451,\n",
              " 'True Negatives': 484,\n",
              " 'False Positives': 12,\n",
              " 'False Negatives': 4}"
            ]
          },
          "metadata": {},
          "execution_count": 29
        }
      ]
    },
    {
      "cell_type": "markdown",
      "source": [
        "### Evaluating on Validation set"
      ],
      "metadata": {
        "id": "aD0FYmMXGGPf"
      }
    },
    {
      "cell_type": "code",
      "source": [
        "# Creating the evaluation object\n",
        "\n",
        "valid_eval = EvaluateModel(model_file='/content/drive/MyDrive/Resume_classifier/model_checkpoint.h5',\n",
        "                           test_folder='/content/drive/MyDrive/Resume_classifier/valid')"
      ],
      "metadata": {
        "id": "cOZ_IBtlF97E"
      },
      "execution_count": 30,
      "outputs": []
    },
    {
      "cell_type": "code",
      "source": [
        "# Loading the data and making predictions\n",
        "\n",
        "valid_images, valid_labels = valid_eval.preprocess_load_data()\n",
        "valid_pred = valid_eval.make_predictions(valid_images)"
      ],
      "metadata": {
        "colab": {
          "base_uri": "https://localhost:8080/"
        },
        "id": "wXVRqetLGf7h",
        "outputId": "dd4db2f0-369d-4c34-c568-94f3e0487f1b"
      },
      "execution_count": 31,
      "outputs": [
        {
          "output_type": "stream",
          "name": "stderr",
          "text": [
            "/usr/local/lib/python3.10/dist-packages/PIL/Image.py:996: UserWarning: Palette images with Transparency expressed in bytes should be converted to RGBA images\n",
            "  warnings.warn(\n"
          ]
        },
        {
          "output_type": "stream",
          "name": "stdout",
          "text": [
            "8/8 [==============================] - 30s 3s/step\n"
          ]
        }
      ]
    },
    {
      "cell_type": "code",
      "source": [
        "# Classification report\n",
        "valid_eval.get_classification_report(valid_labels, valid_pred, file_name='valid_report.csv')"
      ],
      "metadata": {
        "colab": {
          "base_uri": "https://localhost:8080/"
        },
        "id": "thaIIoFlGnvU",
        "outputId": "2ce6a958-c950-4377-8b03-4906487ba6a9"
      },
      "execution_count": 32,
      "outputs": [
        {
          "output_type": "stream",
          "name": "stdout",
          "text": [
            "              precision    recall  f1-score   support\n",
            "\n",
            "           0       0.92      0.98      0.95        62\n",
            "           1       0.98      0.91      0.95        58\n",
            "\n",
            "    accuracy                           0.95       120\n",
            "   macro avg       0.95      0.95      0.95       120\n",
            "weighted avg       0.95      0.95      0.95       120\n",
            "\n"
          ]
        }
      ]
    },
    {
      "cell_type": "code",
      "source": [
        "# Confusion matrix\n",
        "valid_cm = valid_eval.get_confusion_matrix(valid_labels, valid_pred, 'valid_matrix.jpg')"
      ],
      "metadata": {
        "colab": {
          "base_uri": "https://localhost:8080/",
          "height": 430
        },
        "id": "1Ok_-aoiG0YJ",
        "outputId": "3fd38f46-7b53-4f13-b388-8016d35ab361"
      },
      "execution_count": 33,
      "outputs": [
        {
          "output_type": "display_data",
          "data": {
            "text/plain": [
              "<Figure size 640x480 with 2 Axes>"
            ],
            "image/png": "[encoded data removed]"
          },
          "metadata": {}
        }
      ]
    },
    {
      "cell_type": "code",
      "source": [
        "# Other metrics\n",
        "valid_eval.get_metrics(valid_cm)"
      ],
      "metadata": {
        "colab": {
          "base_uri": "https://localhost:8080/"
        },
        "id": "gO3uc9GyG0az",
        "outputId": "542745be-a74b-4f8e-eee9-130916fb2ae1"
      },
      "execution_count": 34,
      "outputs": [
        {
          "output_type": "execute_result",
          "data": {
            "text/plain": [
              "{'True Positives': 53,\n",
              " 'True Negatives': 61,\n",
              " 'False Positives': 5,\n",
              " 'False Negatives': 1}"
            ]
          },
          "metadata": {},
          "execution_count": 34
        }
      ]
    },
    {
      "cell_type": "markdown",
      "source": [
        "### Evaluation on test data"
      ],
      "metadata": {
        "id": "kgHqwyIFHMiy"
      }
    },
    {
      "cell_type": "code",
      "source": [
        "# Creating the evaluation object\n",
        "\n",
        "test_eval = EvaluateModel(model_file='/content/drive/MyDrive/Resume_classifier/model_checkpoint.h5',\n",
        "                           test_folder='/content/drive/MyDrive/Resume_classifier/test')"
      ],
      "metadata": {
        "id": "9hn9fMdtG0c9"
      },
      "execution_count": 35,
      "outputs": []
    },
    {
      "cell_type": "code",
      "source": [
        "# Loading the data and making predictions\n",
        "\n",
        "test_images, test_labels = test_eval.preprocess_load_data()\n",
        "test_pred = test_eval.make_predictions(test_images)"
      ],
      "metadata": {
        "colab": {
          "base_uri": "https://localhost:8080/"
        },
        "id": "8W5Rcd7nG0fW",
        "outputId": "441641ab-84cd-4022-f91a-fc9ba3e19bb1"
      },
      "execution_count": 36,
      "outputs": [
        {
          "output_type": "stream",
          "name": "stderr",
          "text": [
            "/usr/local/lib/python3.10/dist-packages/PIL/Image.py:996: UserWarning: Palette images with Transparency expressed in bytes should be converted to RGBA images\n",
            "  warnings.warn(\n"
          ]
        },
        {
          "output_type": "stream",
          "name": "stdout",
          "text": [
            "8/8 [==============================] - 33s 4s/step\n"
          ]
        }
      ]
    },
    {
      "cell_type": "code",
      "source": [
        "# Classification report\n",
        "test_eval.get_classification_report(test_labels, test_pred, file_name='test_report.csv')"
      ],
      "metadata": {
        "colab": {
          "base_uri": "https://localhost:8080/"
        },
        "id": "05-tXBwGG0hl",
        "outputId": "e690c6cc-074c-40f2-8b21-80d64ae3a947"
      },
      "execution_count": 37,
      "outputs": [
        {
          "output_type": "stream",
          "name": "stdout",
          "text": [
            "              precision    recall  f1-score   support\n",
            "\n",
            "           0       0.86      0.89      0.87        61\n",
            "           1       0.88      0.84      0.86        58\n",
            "\n",
            "    accuracy                           0.87       119\n",
            "   macro avg       0.87      0.87      0.87       119\n",
            "weighted avg       0.87      0.87      0.87       119\n",
            "\n"
          ]
        }
      ]
    },
    {
      "cell_type": "code",
      "source": [
        "# Confusion matrix\n",
        "test_cm = test_eval.get_confusion_matrix(test_labels, test_pred, 'test_matrix.jpg')"
      ],
      "metadata": {
        "colab": {
          "base_uri": "https://localhost:8080/",
          "height": 430
        },
        "id": "IjDIRipDHksH",
        "outputId": "82bfc7a3-6b85-4185-8753-b70f58cd11fc"
      },
      "execution_count": 38,
      "outputs": [
        {
          "output_type": "display_data",
          "data": {
            "text/plain": [
              "<Figure size 640x480 with 2 Axes>"
            ],
            "image/png": "[encoded data removed]"
          },
          "metadata": {}
        }
      ]
    },
    {
      "cell_type": "code",
      "source": [
        "# Other metrics\n",
        "test_eval.get_metrics(test_cm)"
      ],
      "metadata": {
        "colab": {
          "base_uri": "https://localhost:8080/"
        },
        "id": "DO2S6MnkHku8",
        "outputId": "7c38a165-5a10-4fd2-9b96-8946e08ee7c7"
      },
      "execution_count": 39,
      "outputs": [
        {
          "output_type": "execute_result",
          "data": {
            "text/plain": [
              "{'True Positives': 49,\n",
              " 'True Negatives': 54,\n",
              " 'False Positives': 9,\n",
              " 'False Negatives': 7}"
            ]
          },
          "metadata": {},
          "execution_count": 39
        }
      ]
    }
  ]
}